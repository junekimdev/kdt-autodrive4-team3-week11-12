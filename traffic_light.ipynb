{
  "nbformat": 4,
  "nbformat_minor": 0,
  "metadata": {
    "colab": {
      "provenance": [],
      "authorship_tag": "ABX9TyObJBDFRG6PrzC+6+Qqbxv9",
      "include_colab_link": true
    },
    "kernelspec": {
      "name": "python3",
      "display_name": "Python 3"
    },
    "language_info": {
      "name": "python"
    }
  },
  "cells": [
    {
      "cell_type": "markdown",
      "metadata": {
        "id": "view-in-github",
        "colab_type": "text"
      },
      "source": [
        "<a href=\"https://colab.research.google.com/github/junekimdev/kdt-autodrive4-team3-week11-12/blob/dahyunk_week11/traffic_light.ipynb\" target=\"_parent\"><img src=\"https://colab.research.google.com/assets/colab-badge.svg\" alt=\"Open In Colab\"/></a>"
      ]
    },
    {
      "cell_type": "code",
      "execution_count": null,
      "metadata": {
        "id": "pEicSyPXKAz_"
      },
      "outputs": [],
      "source": [
        "def trffic_light_check(img, detection_msg):\n",
        "  obj_id, x_min, x_max, y_min, y_max = detection_msg\n",
        "  if obj_id != 5:\n",
        "    return detection_msg\n",
        "  else:\n",
        "    ### 파란색hsv 정의 ####\n",
        "    lower_blue = (110,100,100)\n",
        "    upper_blue = (130, 255, 255)\n",
        "    ######\n",
        "    roi_img = img[y_min:y_max, x_min: x_max]\n",
        "    ## 원본 변환 ##\n",
        "    new_img = cv2.cvtColor(roi_img, cv2.COLOR_BGR2HSV)\n",
        "    ## hsv -> hsv\n",
        "    hsv_img = cv2.cvtColor(new_img, cv2.COLOR_BGR2HSV)\n",
        "\n",
        "    mask  = cv2.inRange(hsv_img, lower_blue, upper_blue)\n",
        "\n",
        "    mask_img = cv2.bitwise_and(new_img, new_img, mask = mask)\n",
        "\n",
        "    gray_img = cv2.cvtColor(mask_img, cv2.COLOR_BGR2GRAY)\n",
        "\n",
        "    circles = cv2.HoughCircles(gray_img, cv2.HOUGH_GRADIENT, 1, 100, param1 = 250, param2 = 10, minRadius = 5, maxRadius = 20)\n",
        "    circles = np.uint16(np.around(circles))\n",
        "    ### 내접하는 정사각형 범위 ####\n",
        "    for i in circles[0,:]:\n",
        "        cx, cy, rect_l = i[0], i[1], int(i[2]*1.414)\n",
        "    rect_x_min = cx-rect_l//2\n",
        "    rect_x_max = cx+rect_l//2\n",
        "    rect_y_min = cy-rect_l//2\n",
        "    rect_y_max = cy+rect_l//2\n",
        "    \n",
        "    # 내접하는 영역 check ###\n",
        "\n",
        "    if \"영역안에서 \"==\"blue\":\n",
        "      obj_id = -1\n",
        "    else:\n",
        "      return detection_msg\n"
      ]
    }
  ]
}