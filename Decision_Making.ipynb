{
  "nbformat": 4,
  "nbformat_minor": 0,
  "metadata": {
    "colab": {
      "provenance": [],
      "authorship_tag": "ABX9TyMV9YMy60Y9W9koY2YagY7F",
      "include_colab_link": true
    },
    "kernelspec": {
      "name": "python3",
      "display_name": "Python 3"
    },
    "language_info": {
      "name": "python"
    }
  },
  "cells": [
    {
      "cell_type": "markdown",
      "metadata": {
        "id": "view-in-github",
        "colab_type": "text"
      },
      "source": [
        "<a href=\"https://colab.research.google.com/github/junekimdev/kdt-autodrive4-team3-week11-12/blob/dahyunk_week11/Decision_Making.ipynb\" target=\"_parent\"><img src=\"https://colab.research.google.com/assets/colab-badge.svg\" alt=\"Open In Colab\"/></a>"
      ]
    },
    {
      "cell_type": "code",
      "execution_count": null,
      "metadata": {
        "colab": {
          "base_uri": "https://localhost:8080/"
        },
        "id": "eO51jk0u-2GW",
        "outputId": "d10ab980-3fda-4991-aa60-3b5ad21ef73d"
      },
      "outputs": [
        {
          "output_type": "stream",
          "name": "stdout",
          "text": [
            "Mounted at /content/drive\n"
          ]
        }
      ],
      "source": [
        "from google.colab import drive\n",
        "drive.mount('/content/drive')"
      ]
    },
    {
      "cell_type": "code",
      "source": [
        "cd drive/MyDrive/라벨링"
      ],
      "metadata": {
        "colab": {
          "base_uri": "https://localhost:8080/"
        },
        "id": "AtQB67-N_NeD",
        "outputId": "bae1590f-a18c-4ec5-9a15-147a44596115"
      },
      "execution_count": null,
      "outputs": [
        {
          "output_type": "stream",
          "name": "stdout",
          "text": [
            "/content/drive/MyDrive/라벨링\n"
          ]
        }
      ]
    },
    {
      "cell_type": "code",
      "source": [
        "import os\n",
        "import cv2\n",
        "import numpy as np\n",
        "from google.colab.patches import cv2_imshow\n",
        "import time"
      ],
      "metadata": {
        "id": "IX5d0mBv-9x2"
      },
      "execution_count": null,
      "outputs": []
    },
    {
      "cell_type": "code",
      "source": [
        "ls"
      ],
      "metadata": {
        "colab": {
          "base_uri": "https://localhost:8080/"
        },
        "id": "RjBSvQku_Cqb",
        "outputId": "5bf15271-512b-4898-9e71-22860bd113f6"
      },
      "execution_count": null,
      "outputs": [
        {
          "output_type": "stream",
          "name": "stdout",
          "text": [
            "all.txt            \u001b[0m\u001b[01;34mmasked_image\u001b[0m/     \u001b[01;34mvideo20_img_anno\u001b[0m/  \u001b[01;34mvideo22_img_anno\u001b[0m/\n",
            "capture_video.avi  \u001b[01;34mmasked_img_anno\u001b[0m/  \u001b[01;34mvideo21_img_anno\u001b[0m/\n"
          ]
        }
      ]
    },
    {
      "cell_type": "code",
      "source": [
        "cd .."
      ],
      "metadata": {
        "colab": {
          "base_uri": "https://localhost:8080/"
        },
        "id": "OcmcgewOWCnC",
        "outputId": "c156108f-317a-4636-9c99-5166ae3aefb4"
      },
      "execution_count": null,
      "outputs": [
        {
          "output_type": "stream",
          "name": "stdout",
          "text": [
            "/content/drive/MyDrive/라벨링\n"
          ]
        }
      ]
    },
    {
      "cell_type": "code",
      "source": [
        "cd video21_img_anno"
      ],
      "metadata": {
        "colab": {
          "base_uri": "https://localhost:8080/"
        },
        "id": "98QmHWMS_K6k",
        "outputId": "f87ef734-9ede-4446-b614-1c0f7213cf0e"
      },
      "execution_count": null,
      "outputs": [
        {
          "output_type": "stream",
          "name": "stdout",
          "text": [
            "/content/drive/MyDrive/라벨링/video21_img_anno\n"
          ]
        }
      ]
    },
    {
      "cell_type": "code",
      "source": [
        "annots = os.listdir(\"Annotations\")\n",
        "images = os.listdir(\"Images\")\n",
        "annots.sort()\n",
        "images.sort()\n",
        "print(len(annots), len(images))"
      ],
      "metadata": {
        "colab": {
          "base_uri": "https://localhost:8080/"
        },
        "id": "oSHH0ebE_Wrm",
        "outputId": "d89ca498-07cb-4f26-c00f-a62afd931a74"
      },
      "execution_count": null,
      "outputs": [
        {
          "output_type": "stream",
          "name": "stdout",
          "text": [
            "300 300\n"
          ]
        }
      ]
    },
    {
      "cell_type": "code",
      "source": [
        "def make_annots_list(path, list_):\n",
        "  object_detector = []\n",
        "  for li in list_:\n",
        "    txt_file = open(path+li, \"r\")\n",
        "    lines = txt_file.readlines()\n",
        "    stack = []\n",
        "    for line in lines:\n",
        "      stack.append(list(map(float, line.split())))\n",
        "    object_detector.append(stack)\n",
        "    txt_file.close()\n",
        "  return object_detector"
      ],
      "metadata": {
        "id": "6ROg5pd4_rlP"
      },
      "execution_count": null,
      "outputs": []
    },
    {
      "cell_type": "code",
      "source": [
        "detector = make_annots_list(\"Annotations/\", annots)"
      ],
      "metadata": {
        "id": "t0bcDofz_26w"
      },
      "execution_count": null,
      "outputs": []
    },
    {
      "cell_type": "code",
      "source": [
        "print(detector[0][60])"
      ],
      "metadata": {
        "colab": {
          "base_uri": "https://localhost:8080/",
          "height": 164
        },
        "id": "0jH_4MMaAKuC",
        "outputId": "24e401a6-8df7-4599-ea6c-cfeee05d7b0c"
      },
      "execution_count": null,
      "outputs": [
        {
          "output_type": "error",
          "ename": "IndexError",
          "evalue": "ignored",
          "traceback": [
            "\u001b[0;31m---------------------------------------------------------------------------\u001b[0m",
            "\u001b[0;31mIndexError\u001b[0m                                Traceback (most recent call last)",
            "\u001b[0;32m<ipython-input-65-f137585f32e5>\u001b[0m in \u001b[0;36m<module>\u001b[0;34m\u001b[0m\n\u001b[0;32m----> 1\u001b[0;31m \u001b[0mprint\u001b[0m\u001b[0;34m(\u001b[0m\u001b[0mdetector\u001b[0m\u001b[0;34m[\u001b[0m\u001b[0;36m0\u001b[0m\u001b[0;34m]\u001b[0m\u001b[0;34m[\u001b[0m\u001b[0;36m60\u001b[0m\u001b[0;34m]\u001b[0m\u001b[0;34m)\u001b[0m\u001b[0;34m\u001b[0m\u001b[0;34m\u001b[0m\u001b[0m\n\u001b[0m",
            "\u001b[0;31mIndexError\u001b[0m: list index out of range"
          ]
        }
      ]
    },
    {
      "cell_type": "code",
      "source": [
        "print(416*416//2)"
      ],
      "metadata": {
        "colab": {
          "base_uri": "https://localhost:8080/"
        },
        "id": "B2_6p2lgCSKQ",
        "outputId": "69d54c91-ba64-4988-fb57-bef9cb5719f3"
      },
      "execution_count": null,
      "outputs": [
        {
          "output_type": "stream",
          "name": "stdout",
          "text": [
            "86528\n"
          ]
        }
      ]
    },
    {
      "cell_type": "code",
      "source": [
        "state = [\"Drive_State\", \"Left_State\", \"Right_State\", \"Stop_State\"]"
      ],
      "metadata": {
        "id": "y01WOrFlqXuG"
      },
      "execution_count": null,
      "outputs": []
    },
    {
      "cell_type": "code",
      "source": [],
      "metadata": {
        "id": "hJyB7q8h47-W"
      },
      "execution_count": null,
      "outputs": []
    },
    {
      "cell_type": "code",
      "source": [
        "def decision_making(img_path, detector, current_state):\n",
        "  state = [\"Drive_State\", \"Left_State\", \"Right_State\", \"Stop_State\"]\n",
        "  anchor_box_min = 1400\n",
        "  anchor_box_max = 5000\n",
        "  check_list = [-1] # -1 -> 주행 상태\n",
        "  bbox = [[]] # 확인용, [] -> 초기화값\n",
        "  for i in detector:\n",
        "    cls, cx, cy, w, h = int(i[0]), i[1], i[2], i[3], i[4]\n",
        "    ratio = h/w\n",
        "    if cls != 5:\n",
        "      ratio_min = 1.0\n",
        "      ratio_max = 2.3\n",
        "      sqare = int(w*173056*h)\n",
        "    elif cls == 5:\n",
        "      sqare = int(w*129792*h)\n",
        "      ratio_min = 1.8\n",
        "      ratio_max = 3.2\n",
        "    weight = int(w*416)\n",
        "    if ratio_min < ratio and ratio_max > ratio:\n",
        "      if weight > 20 and weight < 60:\n",
        "        if anchor_box_min > sqare or anchor_box_max < sqare:\n",
        "          continue\n",
        "        else:\n",
        "          anchor_box_min = sqare\n",
        "          print(\"밑변은 %f\" % weight)\n",
        "          print(\"높이는\", h*416)\n",
        "          print(\"넓이는\", sqare)\n",
        "          print(\"비율은\", h/w)\n",
        "          bbox.pop()\n",
        "          bbox.append([cx,cy,w,h])\n",
        "          check_list.pop()\n",
        "          check_list.append(cls)\n",
        "  img = cv2.imread(img_path)\n",
        "    ########## 확인용 ################\n",
        "  if bbox[0] != []:\n",
        "    x_min = int((bbox[0][0]-bbox[0][2]/2) * 416)\n",
        "    x_max = int((bbox[0][0]+bbox[0][2]/2) * 416)\n",
        "    y_min = int((bbox[0][1]-bbox[0][3]/2) * 416)\n",
        "    y_max = int((bbox[0][1]+bbox[0][3]/2) * 416)\n",
        "    img = cv2.rectangle(img, (x_min, y_min), (x_max, y_max), (0,255,0), 1)\n",
        "    ###############################\n",
        "  cv2_imshow(img)\n",
        "    \n",
        "  if check_list[-1] == -1:\n",
        "    if current_state == \"Drive_State\":\n",
        "      return current_state\n",
        "    else:\n",
        "      # print(current_state+\" -> \"+state[0])\n",
        "      return state[0]\n",
        "  elif check_list[-1] == 0:\n",
        "    # print(\"Left State\")\n",
        "    if current_state == \"Left_State\":\n",
        "      return current_state\n",
        "    else:\n",
        "      # print(current_state+\" -> \" +state[1])\n",
        "      return state[1]\n",
        "  elif check_list[-1] == 1:\n",
        "      # print(\"Left State\")\n",
        "    if current_state == \"Right_State\":\n",
        "      return current_state\n",
        "    else:\n",
        "      # print(current_state+\" -> \" +state[2])\n",
        "      return state[2]\n",
        "  elif check_list[-1] == 2 or check_list[-1] == 3:\n",
        "      # print(\"Stop State\")\n",
        "    if current_state == \"Stop_State\":\n",
        "      time.sleep(5)\n",
        "      return state[0]\n",
        "    else:\n",
        "      # print(current_state+\" -> \" +state[3])\n",
        "      return state[3]\n",
        "  elif check_list[-1] == 5:\n",
        "      # print(\"Traffic_light Detection\")\n",
        "      \n",
        "      # lower_blue = (110,100,100)\n",
        "      # upper_blue = (125, 255, 255)\n",
        "      lower_red = (160, 50, 50)\n",
        "      upper_blue = (180,255,255)\n",
        "      cx, cy, w, h = bbox[0][0], bbox[0][1], bbox[0][2], bbox[0][3]\n",
        "      img = cv2.imread(img_path)\n",
        "      roi_img = img[int((cy-h/2)*416):int((cy+h/2)*416),int((cx-w/4)*416):int((cx+w/4)*416)]\n",
        "      new_img = cv2.cvtColor(roi_img, cv2.COLOR_BGR2HSV)\n",
        "      hsv_img = cv2.cvtColor(new_img, cv2.COLOR_BGR2HSV)\n",
        "\n",
        "      # mask  = cv2.inRange(hsv_img, lower_blue, upper_blue)\n",
        "      mask_red = cv2.inRange(hsv_img, lower_red, upper_blue)\n",
        "      # mask_img = cv2.bitwise_and(new_img, new_img, mask = mask)\n",
        "      mask_img_red = cv2.bitwise_and(new_img, new_img, mask = mask_red)\n",
        "      # cv2_imshow(mask_img_red)\n",
        "      gray_img = cv2.cvtColor(mask_img_red, cv2.COLOR_BGR2GRAY)\n",
        "      ret ,th_img = cv2.threshold(gray_img, 1, 255, cv2.THRESH_BINARY_INV)\n",
        "      row = int(h*416*0.3)\n",
        "      col = len(th_img[0])\n",
        "      sqare = len(th_img)*col\n",
        "      count1 = 0\n",
        "      count2 = 0\n",
        "      count3 = 0\n",
        "      print(\"roi1\")\n",
        "      cv2_imshow(th_img[0:row,0:col])\n",
        "      print(\"roi2\")\n",
        "      cv2_imshow(th_img[int(0.35*h*416):int(0.35*h*416)+row, 0: col])\n",
        "      print(\"roi3\")\n",
        "      cv2_imshow(th_img[int(0.65*h*416):int(0.65*h*416)+row, 0: col])\n",
        "      for i in range(row):\n",
        "        for j in range(col):\n",
        "          if th_img[i][j] == 0:\n",
        "            count1 += 1\n",
        "          if th_img[i+int(0.35*h*416)][j] == 0:\n",
        "            count2 += 1\n",
        "          if th_img[i+int(0.65*h*416)][j] == 0:\n",
        "            count3 +=1\n",
        "      decision1 = int(count1/sqare*1000)\n",
        "      decision2 = int(count2/sqare*1000)\n",
        "      decision3 = int(count3/sqare*1000)\n",
        "      print(decision1, decision2, decision3)\n",
        "      min_, max_ = min(decision1,decision3), max(decision1, decision3)\n",
        "\n",
        "\n",
        "      if decision2 > 100:\n",
        "        print(\"Yellow\")\n",
        "      elif max_ > 30 and max_ < 60:\n",
        "        print(\"Red\")\n",
        "      elif max_ > 100:\n",
        "        print(\"Green\")\n",
        "      else:\n",
        "        print(\"Turn Off\")\n",
        "\n",
        "      if min_ == 0 and max_ < 15:\n",
        "        if current_state == \"Stop_State\":\n",
        "          return current_state\n",
        "        else:\n",
        "          # print(current_state + \" -> \" + state[3])\n",
        "          return state[3]\n",
        "      elif min_ == 0:\n",
        "        # print(\"Drive_State\")\n",
        "        if current_state == \"Drive_State\":\n",
        "          return current_state\n",
        "        else:\n",
        "          # print(current_state + \" -> \" + state[0])\n",
        "          return state[0]\n",
        "      else:\n",
        "        # print(\"Stop_State\")\n",
        "        if current_state == \"Stop_State\":\n",
        "          return current_state\n",
        "        else:\n",
        "          # print(current_state + \" -> \" + state[3])\n",
        "          return state[3]\n",
        "\n",
        "    \n",
        "    # print(\"넓이는 %d\" % sqare)\n",
        "    "
      ],
      "metadata": {
        "id": "1cnGpYblAuRA"
      },
      "execution_count": 55,
      "outputs": []
    },
    {
      "cell_type": "code",
      "source": [
        "detector[0][0]"
      ],
      "metadata": {
        "colab": {
          "base_uri": "https://localhost:8080/"
        },
        "id": "Ns9MQUDtwR55",
        "outputId": "1237ff45-f977-4c23-cc02-4ff6ec418b4c"
      },
      "execution_count": null,
      "outputs": [
        {
          "output_type": "execute_result",
          "data": {
            "text/plain": [
              "[3.0, 0.944259, 0.497942, 0.107023, 0.296296]"
            ]
          },
          "metadata": {},
          "execution_count": 26
        }
      ]
    },
    {
      "cell_type": "code",
      "source": [
        "num = 0\n",
        "stack = [\"Stop_State\"]\n",
        "img_path = \"Images/\"\n",
        "for i, j in zip(images, detector):\n",
        "  stack.append(decision_making(img_path+i, j, stack[-1]))\n",
        "  num += 1\n",
        "  # if num == 100:\n",
        "  #   break"
      ],
      "metadata": {
        "id": "ik1eelNjDT9_"
      },
      "execution_count": null,
      "outputs": []
    }
  ]
}