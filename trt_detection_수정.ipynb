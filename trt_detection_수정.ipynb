{
  "nbformat": 4,
  "nbformat_minor": 0,
  "metadata": {
    "colab": {
      "provenance": [],
      "authorship_tag": "ABX9TyPNdDwS4YvkIKsxpZ9dy3l6",
      "include_colab_link": true
    },
    "kernelspec": {
      "name": "python3",
      "display_name": "Python 3"
    },
    "language_info": {
      "name": "python"
    }
  },
  "cells": [
    {
      "cell_type": "markdown",
      "metadata": {
        "id": "view-in-github",
        "colab_type": "text"
      },
      "source": [
        "<a href=\"https://colab.research.google.com/github/junekimdev/kdt-autodrive4-team3-week11-12/blob/dahyunk_week11/trt_detection_%EC%88%98%EC%A0%95.ipynb\" target=\"_parent\"><img src=\"https://colab.research.google.com/assets/colab-badge.svg\" alt=\"Open In Colab\"/></a>"
      ]
    },
    {
      "cell_type": "code",
      "source": [
        "#### 1. w 길이에 따라 분류\n",
        "#### 2. 1) 신호등\n",
        "####    2) 정지, 횡단보도\n",
        "####    3) 좌회전 우회전 "
      ],
      "metadata": {
        "id": "KvN5F78Bhttk"
      },
      "execution_count": null,
      "outputs": []
    },
    {
      "cell_type": "code",
      "execution_count": null,
      "metadata": {
        "id": "VBSYFHR9g-_7"
      },
      "outputs": [],
      "source": [
        "def _write_message(self, detection_results, boxes, scores, classes):\n",
        "        \"\"\" populate output message with input header and bounding boxes information \"\"\"\n",
        "        if boxes is None:\n",
        "            return None\n",
        "        \n",
        "        ### width_threshold 정의 ####\n",
        "        pixel_low = 40\n",
        "        pixel_max = 60\n",
        "        for box, score, category in zip(boxes, scores, classes):\n",
        "            # Populate darknet message\n",
        "            minx, miny, width, height = box\n",
        "            \n",
        "            if width < pixel_low or width > pixel_max:\n",
        "              continue\n",
        "            else:\n",
        "              detection_msg = BoundingBox()\n",
        "              detection_msg.xmin = int(minx)\n",
        "              detection_msg.xmax = int(minx + width)\n",
        "              detection_msg.ymin = int(miny)\n",
        "              detection_msg.ymax = int(miny + height)\n",
        "              detection_msg.probability = score\n",
        "              detection_msg.id = int(category)\n",
        "              \n",
        "              ### pixel_low 갱신\n",
        "              # pixel_low = width\n",
        "              # 신호를 우선 순위 할거라 갱신 할 필요 없음\n",
        "\n",
        "              ### thraffic_sign_우선순위###\n",
        "\n",
        "              ### 신호등 #####\n",
        "              if detection_msg.id == 5:\n",
        "                ### 신호 앵커 박스넓이 ###\n",
        "                traffic_light_sqare_min = 3000\n",
        "                traffic_light_sqare_max = 3500\n",
        "                sqare = width * height\n",
        "                ### 앵커 박스에 들어오지 않으면 무시 ###\n",
        "                if sqare < traffic_light_sqare_min or sqare > traffic_light_sqare_max:\n",
        "                  continue\n",
        "                #### 신호 구분 ####\n",
        "                else:\n",
        "                  #### 클래스 내 detect()에서 image 끌고 와야함\n",
        "                  image = image[detection_msg.ymin:detection_msg.ymax,detection_msg.xmin:detection_msg.xmax]\n",
        "                  gray_image = cv2.cvtColor(image, cv2.COLOR_BGR2GRAY)\n",
        "                  dst_img = cv2.bilateralFilter(gray, -1, 10, 10)\n",
        "\n",
        "\n",
        "                  ### 분류 ####\n",
        "                  if traffic_light == \"green\":\n",
        "                    detection_msg.id = -1 ### id -1 기본 주행\n",
        "                  break\n",
        "\n",
        "              elif detction_msg.id == 2 or 3:\n",
        "                ### 교통 신호 앵커 박스 ###\n",
        "                sqare = width * height\n",
        "                traffic_sign_sqare_min = 2000\n",
        "                traffic_sign_sqare_max = 3000\n",
        "\n",
        "                if sqare < traffic_sign_sqare_min or sqare > traffic_sign_max:\n",
        "                  continue\n",
        "                else:\n",
        "                  break\n",
        "\n",
        "              elif detection_msg.id == 0 or 1:\n",
        "                ### 교통 신호 앵커 박스 ###\n",
        "                sqare = width * height\n",
        "                traffic_sign_sqare_min = 2000\n",
        "                traffic_sign_sqare_max = 3000\n",
        "\n",
        "                if sqare < traffic_sign_sqare_min or sqare > traffic_sign_max:\n",
        "                  continue\n",
        "                else:\n",
        "                  break\n",
        "          detection_results.bounding_boxes.append(detection_msg)\n",
        "\n",
        "        return detection_results"
      ]
    }
  ]
}